{
 "cells": [
  {
   "cell_type": "markdown",
   "metadata": {},
   "source": [
    "We are going to explore some weather data. We have the monthly average temperature for Dulles VA, Olympia WA, and Miami FL in csv files. "
   ]
  },
  {
   "cell_type": "code",
   "execution_count": null,
   "metadata": {
    "collapsed": false
   },
   "outputs": [],
   "source": [
    "pylab inline"
   ]
  },
  {
   "cell_type": "markdown",
   "metadata": {},
   "source": [
    "I've loaded the Dulles data using numpy's loadtxt method, see the documentation for more info. I've also set up a variable holding the months of the year (you'll need this later)."
   ]
  },
  {
   "cell_type": "code",
   "execution_count": null,
   "metadata": {
    "collapsed": false
   },
   "outputs": [],
   "source": [
    "months = ['January', 'Feburary', 'March', 'April', 'May', 'June', 'July', 'August', 'September', 'October', 'November', 'December']\n",
    "\n",
    "dulles = loadtxt('dulles.csv', usecols=[1,2,3,4,5,6,7,8,9,10,11,12], delimiter=',')"
   ]
  },
  {
   "cell_type": "markdown",
   "metadata": {},
   "source": [
    "1) Please load the data for Miami and Olympia into variables called miami and olympia. The files are named 'miami.csv' and 'olympia.csv'"
   ]
  },
  {
   "cell_type": "code",
   "execution_count": null,
   "metadata": {
    "collapsed": false
   },
   "outputs": [],
   "source": [
    "# 1. Write your code here to load data for Miami and Olympia\n",
    "miami = loadtxt('miami.csv', usecols=[1,2,3,4,5,6,7,8,9,10,11,12], delimiter=',')\n",
    "\n",
    "olympia = loadtxt('olympia.csv', usecols=[1,2,3,4,5,6,7,8,9,10,11,12], delimiter=',')"
   ]
  },
  {
   "cell_type": "markdown",
   "metadata": {},
   "source": [
    "2) The temperatures are in Fahrenheit now. Convert the temperatures to Celsius.\n",
    "\n",
    "**Bonus** write a function to convert to Celsius"
   ]
  },
  {
   "cell_type": "code",
   "execution_count": null,
   "metadata": {
    "collapsed": true
   },
   "outputs": [],
   "source": [
    "# 2. Convert the temperatures for all three cities from Fahrenheit to Celsius here. Do not use a loop.\n",
    "dullesC = (dulles - 32) * (5.0/9)\n",
    "miamiC = (miami - 32) * (5.0/9)\n",
    "olympiaC = (olympia - 32) * (5.0/9)\n",
    "\n",
    "\n",
    "# Bonus\n",
    "def convertToC(city):\n",
    "    return (city - 32) * (5.0/9.0)"
   ]
  },
  {
   "cell_type": "markdown",
   "metadata": {},
   "source": [
    "3) Find the mean and standard deviation of the temperature for each month using the data that is in Celsius in all cities. Check the documentation for numpy mean to see how to calculate the mean for each column."
   ]
  },
  {
   "cell_type": "code",
   "execution_count": null,
   "metadata": {
    "collapsed": false
   },
   "outputs": [],
   "source": [
    "# 3. Mean and Stdev\n",
    "dullesMean = mean(dullesC, 0)\n",
    "dullesStd = std(dullesC, 0)\n",
    "miamiMean = mean(miamiC, 0)\n",
    "miamiStd = std(miamiC, 0)\n",
    "olympiaMean = mean(olympiaC, 0)\n",
    "olympiaStd = std(olympiaC, 0)"
   ]
  },
  {
   "cell_type": "markdown",
   "metadata": {},
   "source": [
    "\n",
    "4) Now plot the means per month in a line graph. All cities should be on the same plot. Use green for Dulles, orange for Miami, and grey for Olympia. Plot the standard deviations as error bars for the line graph. See the error bar demo for matplotlib here http://matplotlib.org/examples/statistics/errorbar_demo_features.html\n",
    "\n",
    "Make sure that your x labels are months and not just numbers."
   ]
  },
  {
   "cell_type": "code",
   "execution_count": null,
   "metadata": {
    "collapsed": false
   },
   "outputs": [],
   "source": [
    "# Plot the meanse and stdev's here\n",
    "fig, ax1 = plt.subplots(1, 1)\n",
    "ax1.plot(np.arange(0,12), dullesMean, color='green')\n",
    "ax1.plot(np.arange(0,12), miamiMean, color='orange')\n",
    "ax1.plot(np.arange(0,12), olympiaMean, color='grey')\n",
    "plt.xticks(np.arange(0,12), months[0:12], rotation='vertical')"
   ]
  },
  {
   "cell_type": "code",
   "execution_count": null,
   "metadata": {
    "collapsed": false
   },
   "outputs": [],
   "source": [
    "# Plot the meanse and stdev's here\n",
    "# Bonus\n",
    "fig, ax1 = plt.subplots(1, 1)\n",
    "ax1.errorbar(np.arange(0,12), dullesMean, yerr=dullesStd, color='green')\n",
    "ax1.errorbar(np.arange(0,12), miamiMean, yerr=miamiStd, color='orange')\n",
    "ax1.errorbar(np.arange(0,12), olympiaMean, yerr=olympiaStd, color='grey')\n",
    "plt.xticks(np.arange(0,12), months[0:12], rotation='vertical')"
   ]
  },
  {
   "cell_type": "markdown",
   "metadata": {},
   "source": [
    "5) Create a figure with 3 subplots. Please create a boxplot showing the temperature range (use the data from #2, not from #3) for each month one subplot per city. See the matplotlib documentation for boxplots to help create your plots. Please highlight the means (boxplot has an easy option for this) http://matplotlib.org/examples/statistics/boxplot_demo.html\n",
    "\n",
    "Make sure that your x labels are months and not just numbers."
   ]
  },
  {
   "cell_type": "code",
   "execution_count": null,
   "metadata": {
    "collapsed": false
   },
   "outputs": [],
   "source": [
    "#Create your plots here\n",
    "#First, create an empty figure with 1 subplot\n",
    "fig, (ax1, ax2, ax3) = plt.subplots(1, 3)\n",
    "\n",
    "# Add title and labels\n",
    "ax1.set_title('Dulles')\n",
    "ax1.set_xlabel('Months')\n",
    "ax1.set_ylabel('Temp (C)')\n",
    "\n",
    "ax2.set_title('Miami')\n",
    "ax2.set_xlabel('Months')\n",
    "ax2.set_ylabel('Temp (C)')\n",
    "\n",
    "ax3.set_title('Olympia')\n",
    "ax3.set_xlabel('Months')\n",
    "ax3.set_ylabel('Temp (C)')\n",
    "\n",
    "# Add the boxes\n",
    "plt.xticks(rotation=90)\n",
    "ax1.boxplot(dullesC, showmeans=True) \n",
    "ax2.boxplot(miamiC, showmeans=True)\n",
    "ax3.boxplot(olympiaC, showmeans=True)\n",
    "\n",
    "plt.setp([ax1, ax2, ax3], xticks=arange(1,13), xticklabels=months, \n",
    "        yticks=arange(-10,30,5))\n",
    "plt.sca(ax1)\n",
    "plt.xticks(rotation=90)\n",
    "plt.sca(ax2)\n",
    "plt.xticks(rotation=90)\n",
    "plt.sca(ax3)\n",
    "plt.xticks(rotation=90)"
   ]
  },
  {
   "cell_type": "markdown",
   "metadata": {},
   "source": [
    "6) \\*\\*\\* More difficult\n",
    "I only want to visit a city when it's weather is nice. I define nice weather as a 95% (2 sigma) probability that the temperature will be between 55-75F. Hint: use logical arrays. \n",
    "What months should I plan my vacations to Miami, Olympia, and Dulles?\n",
    "\n",
    "Write a function that takes a city's weather data, and a tuple with (min, max) temps and returns the list of months to visit that city. If there are no months that they should visit, your function should return an empty array."
   ]
  },
  {
   "cell_type": "code",
   "execution_count": null,
   "metadata": {
    "collapsed": false
   },
   "outputs": [],
   "source": [
    "#Write your function here\n",
    "def whenShouldIVisit(cityData, tempTuple):\n",
    "    month_list = ['January', 'Feburary', 'March', 'April', 'May', 'June', 'July', 'August', 'September', 'October', 'November', 'December']\n",
    "    cityMean = mean(cityData, 0)\n",
    "    cityStd = std(cityData, 0)\n",
    "    below_highest = (cityMean + (2 * cityStd)) < tempTuple[1]\n",
    "    above_highest = (cityMean - (2 * cityStd)) > tempTuple[0]\n",
    "    is_nice_weather = logical_and(below_highest, above_highest)\n",
    "    months_with_nice_weather = where(is_nice_weather)\n",
    "    # Returns a tuple where the list we want is the first one\n",
    "    months_numbers = months_with_nice_weather[0]\n",
    "    months = []\n",
    "    for m in months_numbers:\n",
    "        months.append(month_list[m])\n",
    "    return months\n",
    "#Run your function for all three cities\n",
    "print \"I should visit Dulles in \", whenShouldIVisit(dullesC, (12.5, 25))\n",
    "print \"I should visit Miami in \", whenShouldIVisit(miamiC, (12.5, 25))\n",
    "print \"I should visit Olympia in \", whenShouldIVisit(olympiaC, (12.5, 25))"
   ]
  },
  {
   "cell_type": "code",
   "execution_count": null,
   "metadata": {
    "collapsed": true
   },
   "outputs": [],
   "source": []
  }
 ],
 "metadata": {
  "kernelspec": {
   "display_name": "Python 2",
   "language": "python",
   "name": "python2"
  },
  "language_info": {
   "codemirror_mode": {
    "name": "ipython",
    "version": 2
   },
   "file_extension": ".py",
   "mimetype": "text/x-python",
   "name": "python",
   "nbconvert_exporter": "python",
   "pygments_lexer": "ipython2",
   "version": "2.7.11"
  }
 },
 "nbformat": 4,
 "nbformat_minor": 0
}
