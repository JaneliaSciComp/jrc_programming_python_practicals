{
 "cells": [
  {
   "cell_type": "markdown",
   "metadata": {},
   "source": [
    "We are going to explore some weather data. We have the monthly average temperature for Dulles VA, Olympia WA, and Miama FL in csv files. "
   ]
  },
  {
   "cell_type": "code",
   "execution_count": null,
   "metadata": {
    "collapsed": false
   },
   "outputs": [],
   "source": [
    "pylab inline"
   ]
  },
  {
   "cell_type": "markdown",
   "metadata": {},
   "source": [
    "I've loaded the Dulles data using numpy's loadtxt method, see the documentation for more info. I've also set up a variable holding the months of the year (you'll need this later)."
   ]
  },
  {
   "cell_type": "code",
   "execution_count": null,
   "metadata": {
    "collapsed": false
   },
   "outputs": [],
   "source": [
    "months = ['January', 'Feburary', 'March', 'April', 'May', 'June', 'July', 'August', 'September', 'October', 'November', 'December']\n",
    "\n",
    "dulles = loadtxt('dulles.csv', usecols=[1,2,3,4,5,6,7,8,9,10,11,12], delimiter=',')"
   ]
  },
  {
   "cell_type": "markdown",
   "metadata": {},
   "source": [
    "1) Please load the data for Miami and Olympia into variables called miami and olympia. The files are named 'miami.csv' and 'olympia.csv'"
   ]
  },
  {
   "cell_type": "code",
   "execution_count": null,
   "metadata": {
    "collapsed": true
   },
   "outputs": [],
   "source": [
    "# 1. Write your code here to load data for Miami and Olympia"
   ]
  },
  {
   "cell_type": "markdown",
   "metadata": {},
   "source": [
    "2) The temperatures are in Fahrenheit now. Convert the temperatures to Celsius.\n",
    "\n",
    "**Bonus** write a function to convert to Celsius"
   ]
  },
  {
   "cell_type": "code",
   "execution_count": null,
   "metadata": {
    "collapsed": true
   },
   "outputs": [],
   "source": [
    "# 2. Convert the temperatures for all three cities from Fahrenheit to Celsius here. Do not use a loop."
   ]
  },
  {
   "cell_type": "markdown",
   "metadata": {},
   "source": [
    "3) Find the mean and standard deviation of the temperature for each month using the data that is in Celsius in all cities. Check the documentation for numpy mean to see how to calculate the mean for each column.\n"
   ]
  },
  {
   "cell_type": "code",
   "execution_count": null,
   "metadata": {
    "collapsed": false
   },
   "outputs": [],
   "source": [
    "# 3. Mean and Stdev"
   ]
  },
  {
   "cell_type": "markdown",
   "metadata": {},
   "source": [
    "\n",
    "4) Now plot the means per month in a line graph. All cities should be on the same plot. Use green for Dulles, orange for Miami, and grey for Olympia. Plot the standard deviations as error bars for the line graph. See the error bar demo for matplotlib here http://matplotlib.org/examples/statistics/errorbar_demo_features.html\n",
    "\n",
    "Make sure that your x labels are months and not just numbers."
   ]
  },
  {
   "cell_type": "code",
   "execution_count": null,
   "metadata": {
    "collapsed": true
   },
   "outputs": [],
   "source": [
    "# Plot the meanse and stdev's here"
   ]
  },
  {
   "cell_type": "markdown",
   "metadata": {},
   "source": [
    "5) Create a figure with 3 subplots. Please create a boxplot showing the temperature range (use the data from #2, not from #3) for each month one subplot per city. See the matplotlib documentation for boxplots to help create your plots. Please highlight the means (boxplot has an easy option for this) http://matplotlib.org/examples/statistics/boxplot_demo.html\n",
    "\n",
    "Make sure that your x labels are months and not just numbers."
   ]
  },
  {
   "cell_type": "code",
   "execution_count": null,
   "metadata": {
    "collapsed": false
   },
   "outputs": [],
   "source": [
    "#Create your plots here\n"
   ]
  },
  {
   "cell_type": "markdown",
   "metadata": {},
   "source": [
    "6) \\*\\*\\* More difficult\n",
    "I only want to visit a city when it's weather is nice. I define nice weather as a 95% (2 sigma) probability that the temperature will be between 55-75F. Hint: use logical arrays. \n",
    "What months should I plan my vacations to Miami, Olympia, and Dulles?\n",
    "\n",
    "Write a function that takes a city's weather data, and a tuple with (min, max) temps and returns the list of months to visit that city. If there are no months that they should visit, your function should return an empty array."
   ]
  },
  {
   "cell_type": "code",
   "execution_count": null,
   "metadata": {
    "collapsed": false
   },
   "outputs": [],
   "source": [
    "#Write your function here\n",
    "\n",
    "#Run your function for all three cities"
   ]
  }
 ],
 "metadata": {
  "kernelspec": {
   "display_name": "Python 3",
   "language": "python",
   "name": "python3"
  },
  "language_info": {
   "codemirror_mode": {
    "name": "ipython",
    "version": 3
   },
   "file_extension": ".py",
   "mimetype": "text/x-python",
   "name": "python",
   "nbconvert_exporter": "python",
   "pygments_lexer": "ipython3"
  }
 },
 "nbformat": 4,
 "nbformat_minor": 0
}
