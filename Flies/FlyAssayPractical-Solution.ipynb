{
 "cells": [
  {
   "cell_type": "markdown",
   "metadata": {},
   "source": [
    "\n",
    "# Project: Analyze the annoyance assay\n",
    "\n",
    "There is a new assay developed for flies called the 'annoyance assay'. It measures how many times a fruit fly flies past a human face in an office environment in a 10 minute time span. \n",
    "\n",
    "We have been tasked with analyzing the results for this assay."
   ]
  },
  {
   "cell_type": "markdown",
   "metadata": {},
   "source": [
    "**1)** I've written a program to calculate scores on the assay but it has some bugs. Please run the program and find and correct the errors. When you have finished, the program should print:\n",
    "JRC_very_annoying: 7.5 \n",
    "\n",
    "This program takes a list of results for a fly line and calculated the average. The file is in the following format:\n",
    "    \n",
    "    Fly_Line_Name\n",
    "    7\n",
    "    15\n",
    "    2\n",
    "\n",
    "\n",
    "There are **3** errors total. Work on solving them one at a time.\n",
    "\n",
    "** HINT ** The python debugger will give you an idea what the error is and which line it occurs on."
   ]
  },
  {
   "cell_type": "code",
   "execution_count": null,
   "metadata": {
    "collapsed": false
   },
   "outputs": [],
   "source": [
    "def parseFile(filename):\n",
    "    \"\"\"\n",
    "    Reads the file and gets the line name and \n",
    "    a list of their scores for each trial.\n",
    "    Returns the name and list of scores.\n",
    "    \"\"\"\n",
    "    fi = open(filename)\n",
    "    scores = []\n",
    "    name = \"\"\n",
    "    for line in fi:\n",
    "        if not name:\n",
    "            name = line.strip()\n",
    "        else: \n",
    "            score = line.strip()\n",
    "            # Cast score as an int\n",
    "            score = int(score)\n",
    "            scores.append(score)\n",
    "    fi.close()\n",
    "    return name, scores\n",
    "\n",
    "def calculateMean(scores):\n",
    "    \"\"\"\n",
    "    Calculates the mean of the fly's score\n",
    "    Returns the overall mean value.\n",
    "    \"\"\"\n",
    "    sum = 0\n",
    "    count = 0\n",
    "    for score in scores:\n",
    "        count += 1\n",
    "        sum += score\n",
    "    # Watch out for integer division\n",
    "    return sum / float(count)\n",
    "\n",
    "filename = \"scores.txt\"\n",
    "line_name, scores = parseFile(filename)\n",
    "# call the function by the correct name\n",
    "line_average = calculateMean(scores)\n",
    "print line_name + \": \" + str(line_average)"
   ]
  },
  {
   "cell_type": "markdown",
   "metadata": {},
   "source": [
    "**2)**  Now that you have finished fixing the bugs, lets add some features.\n",
    "\n",
    "You can copy and paste the code from the previous exercises and then make your changes.\n",
    "\n",
    "a) Sometimes the machine breaks and produces a '-' instead of a count. Modify calculateMean to filter out these scores and not include dashed lines in the count or sum when calculating the mean. Run the program again with the file 'scores-dash.txt'\n",
    "\n",
    "I find it useful to look at the data first. I would probably perform the filtering in the `parseFile` function and just not add -'s to the list, but there is more than one way to solve this exercise. \n",
    "\n",
    "b) We anticipate ramping up this assay in the near future. We will have many files to parse instead of just one at a time. Let's refactor the code to process a single file into a function. Create a function called `processAssay` that takes one argument, a file name. This should return the line name and the average scores as a tuple: (line_name, average_score). Test it out by running it with scores.txt and with scores-dash.txt. Make sure you print out the result.\n",
    "\n",
    "    # To try your function run\n",
    "    name1, ave_score1 = processAssay('scores.txt')\n",
    "    name2, ave_score2 = processAssay('scores-dash.txt')\n",
    "\n",
    "c) Let's use the processAssay function you just wrote to process a list of files: ['assay1.txt', 'assay2.txt', 'assay3.txt', 'assay4.txt']. Process each one and print out the result. **HINT** You will need to use a loop."
   ]
  },
  {
   "cell_type": "code",
   "execution_count": null,
   "metadata": {
    "collapsed": false
   },
   "outputs": [],
   "source": [
    "# a) Sometimes the machine breaks and produces a '-' instead of a count. \n",
    "# Modify calculateMean to filter out these scores and not include dashed lines \n",
    "# in the count or sum when calculating the mean. Run the program again with the \n",
    "# file 'scores-dash.txt'\n",
    "\n",
    "# You can solve this problem in the calculateMean function or the parseFile function but,\n",
    "# the parseFile function is easier because then you can cast the scores as an int right there.\n",
    "def parseFile(filename):\n",
    "    \"\"\"\n",
    "    Reads the file and gets the line name and \n",
    "    a list of their scores for each trial.\n",
    "    Returns the name and list of scores.\n",
    "    \"\"\"\n",
    "    fi = open(filename)\n",
    "    scores = []\n",
    "    name = \"\"\n",
    "    for line in fi:\n",
    "        if not name:\n",
    "            name = line.strip()\n",
    "        else: \n",
    "            score = line.strip()\n",
    "            if score != '-':\n",
    "                score = int(score)\n",
    "                scores.append(score)\n",
    "    fi.close()\n",
    "    return name, scores\n",
    "\n",
    "filename = \"scores-dash.txt\"\n",
    "line_name, scores = parseFile(filename)\n",
    "line_average = calculateMean(scores)\n",
    "print line_name + \": \" + str(line_average)"
   ]
  },
  {
   "cell_type": "code",
   "execution_count": null,
   "metadata": {
    "collapsed": false
   },
   "outputs": [],
   "source": [
    "# b) We anticipate ramping up this assay in the near future. \n",
    "# We will have many files to parse instead of just one at a time.\n",
    "# Let's refactor the code to process a single file into a function. \n",
    "# Create a function called processAssay that takes one argument, a file name. \n",
    "# This should return the line name and the average scores as a tuple: (line_name, average_score). \n",
    "# Test it out by running it with scores.txt and with scores-dash.txt. \n",
    "# Make sure you print out the result.\n",
    "\n",
    "def processAssay(filename):\n",
    "    line_name, scores = parseFile(filename)\n",
    "    line_average = calculateMean(scores)\n",
    "    return (line_name, line_average)\n",
    "\n",
    "line, score =  processAssay('scores.txt')\n",
    "print line + \": \" + str(score)\n",
    "line, score =  processAssay('scores-dash.txt')\n",
    "print line + \": \" + str(score)"
   ]
  },
  {
   "cell_type": "code",
   "execution_count": null,
   "metadata": {
    "collapsed": false
   },
   "outputs": [],
   "source": [
    "# c) Let's use the processAssay function you just \n",
    "# wrote to process a list of files: \n",
    "# ['assay1.txt', 'assay2.txt', 'assay3.txt', 'assay4.txt']. \n",
    "# Process each one and print out the result.\n",
    "file_list = ['assay1.txt', 'assay2.txt', 'assay3.txt', 'assay4.txt']\n",
    "\n",
    "for  file_name in file_list:\n",
    "    line, score =  processAssay(file_name)\n",
    "    print line + \": \" + str(score)"
   ]
  }
 ],
 "metadata": {
  "kernelspec": {
   "display_name": "Python 2",
   "language": "python",
   "name": "python2"
  },
  "language_info": {
   "codemirror_mode": {
    "name": "ipython",
    "version": 2
   },
   "file_extension": ".py",
   "mimetype": "text/x-python",
   "name": "python",
   "nbconvert_exporter": "python",
   "pygments_lexer": "ipython2",
   "version": "2.7.11"
  }
 },
 "nbformat": 4,
 "nbformat_minor": 0
}
