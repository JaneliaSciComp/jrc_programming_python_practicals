{
 "cells": [
  {
   "cell_type": "markdown",
   "metadata": {},
   "source": [
    "### Annoyance assay\n",
    "\n",
    "There is a new assay developed for flies called the 'annoyance assay'. It measures how many times a fruit fly flies past a human face in an office environment in a 10 minute time span. \n",
    "\n",
    "We have been tasked with analyzing the results for this assay."
   ]
  },
  {
   "cell_type": "markdown",
   "metadata": {},
   "source": [
    "1) I've written a program to calculate scores on the assay but it has some bugs. Please run the program and find and correct the errors. When you have finished, the program should print:\n",
    "JRC_very_annoying: 7.5 \n",
    "\n",
    "This program take a list of results for a fly line and calculated the average. The file is in the following format:\n",
    "    \n",
    "    Fly_Line_Name\n",
    "    7\n",
    "    15\n",
    "    2\n",
    "\n",
    "\n",
    "**HINT** There are 3 errors total. Work on solving them one at a time."
   ]
  },
  {
   "cell_type": "code",
   "execution_count": 1,
   "metadata": {
    "collapsed": false
   },
   "outputs": [
    {
     "ename": "NameError",
     "evalue": "name 'calculateScore' is not defined",
     "output_type": "error",
     "traceback": [
      "\u001b[0;31m---------------------------------------------------------------------------\u001b[0m",
      "\u001b[0;31mNameError\u001b[0m                                 Traceback (most recent call last)",
      "\u001b[0;32m<ipython-input-1-12ff760c1513>\u001b[0m in \u001b[0;36m<module>\u001b[0;34m()\u001b[0m\n\u001b[1;32m     32\u001b[0m \u001b[0mfilename\u001b[0m \u001b[0;34m=\u001b[0m \u001b[0;34m\"scores.txt\"\u001b[0m\u001b[0;34m\u001b[0m\u001b[0m\n\u001b[1;32m     33\u001b[0m \u001b[0mline_name\u001b[0m\u001b[0;34m,\u001b[0m \u001b[0mscores\u001b[0m \u001b[0;34m=\u001b[0m \u001b[0mparseFile\u001b[0m\u001b[0;34m(\u001b[0m\u001b[0mfilename\u001b[0m\u001b[0;34m)\u001b[0m\u001b[0;34m\u001b[0m\u001b[0m\n\u001b[0;32m---> 34\u001b[0;31m \u001b[0mline_average\u001b[0m \u001b[0;34m=\u001b[0m \u001b[0mcalculateScore\u001b[0m\u001b[0;34m(\u001b[0m\u001b[0mscores\u001b[0m\u001b[0;34m)\u001b[0m\u001b[0;34m\u001b[0m\u001b[0m\n\u001b[0m\u001b[1;32m     35\u001b[0m \u001b[0;32mprint\u001b[0m \u001b[0mline_name\u001b[0m \u001b[0;34m+\u001b[0m \u001b[0;34m\": \"\u001b[0m \u001b[0;34m+\u001b[0m \u001b[0mstr\u001b[0m\u001b[0;34m(\u001b[0m\u001b[0mline_average\u001b[0m\u001b[0;34m)\u001b[0m\u001b[0;34m\u001b[0m\u001b[0m\n",
      "\u001b[0;31mNameError\u001b[0m: name 'calculateScore' is not defined"
     ]
    }
   ],
   "source": [
    "def parseFile(filename):\n",
    "    \"\"\"\n",
    "    Reads the file and gets the line name and \n",
    "    a list of their scores for each trial.\n",
    "    Returns the name and list of scores.\n",
    "    \"\"\"\n",
    "    fi = open(filename)\n",
    "    scores = []\n",
    "    name = \"\"\n",
    "    for line in fi:\n",
    "        if not name:\n",
    "            name = line.strip()\n",
    "        else: \n",
    "            score = line.strip()\n",
    "            scores.append(score)\n",
    "    fi.close()\n",
    "    return name, scores\n",
    "\n",
    "def calculateMean(scores):\n",
    "    \"\"\"\n",
    "    Calculates the mean of the students grades to\n",
    "    get their overall grade in the class.\n",
    "    Returns the overall grade.\n",
    "    \"\"\"\n",
    "    sum = 0\n",
    "    count = 0\n",
    "    for score in scores:\n",
    "        count += 1\n",
    "        sum += score\n",
    "    return sum / count\n",
    "\n",
    "filename = \"scores.txt\"\n",
    "line_name, scores = parseFile(filename)\n",
    "line_average = calculateScore(scores)\n",
    "print(line_name + \": \" + str(line_average))"
   ]
  },
  {
   "cell_type": "markdown",
   "metadata": {},
   "source": [
    "2)  Now that you have finished fixing the bugs, lets add some features.\n",
    "\n",
    "a) Sometimes the machine breaks and produces a '-' instead of a count. Modify calculateMean to filter out these scores and not include dashed lines in the count or sum when calucalting the mean. Run the program again with the file 'scores-dash.txt'\n",
    "\n",
    "b) We anticipate ramping up this assay in the near future. We will have many files to parse instead of just one at a time. Let's refactor the code to process a single file into a function. Create a function called processAssay that takes one arguement, a file name. This should return the line name and the average scores as a tuple: (line_name, average_score). Test it out by running it with scores.txt and with scores-dash.txt. Make sure you print out the result.\n",
    "\n",
    "c) Let's use the processAssay function you just wrote to process a list of files: ['assay1.txt', 'assay2.txt', 'assay3.txt', 'assay4.txt']. Process each one and print out the result."
   ]
  },
  {
   "cell_type": "code",
   "execution_count": null,
   "metadata": {
    "collapsed": true
   },
   "outputs": [],
   "source": [
    "# a) Sometimes the machine breaks and produces a '-' instead of a count. \n",
    "# Modify the program to filter out these scores and not include dashed lines \n",
    "# in the count or sum when calucalting the mean. Run the program again with the \n",
    "# file 'scores-dash.txt'\n",
    "\n"
   ]
  },
  {
   "cell_type": "code",
   "execution_count": null,
   "metadata": {
    "collapsed": true
   },
   "outputs": [],
   "source": [
    "# b) We anticipate ramping up this assay in the near future. \n",
    "# We will have many files to parse instead of just one at a time.\n",
    "# Let's refactor the code to process a single file into a function. \n",
    "# Create a function called processAssay that takes one arguement, a file name. \n",
    "# This should return the line name and the average scores as a tuple: (line_name, average_score). \n",
    "# Test it out by running it with scores.txt and with scores-dash.txt. \n",
    "# Make sure you print out the result.\n"
   ]
  },
  {
   "cell_type": "code",
   "execution_count": null,
   "metadata": {
    "collapsed": true
   },
   "outputs": [],
   "source": [
    "# c) Let's use the processAssay function you just \n",
    "# wrote to process a list of files: \n",
    "# ['assay1.txt', 'assay2.txt', 'assay3.txt', 'assay4.txt']. \n",
    "# Process each one and print out the result.\n",
    "file_list = ['assay1.txt', 'assay2.txt', 'assay3.txt', 'assay4.txt']\n"
   ]
  }
 ],
 "metadata": {
  "kernelspec": {
   "display_name": "Python 3",
   "language": "python",
   "name": "python3"
  },
  "language_info": {
   "codemirror_mode": {
    "name": "ipython",
    "version": 3
   },
   "file_extension": ".py",
   "mimetype": "text/x-python",
   "name": "python",
   "nbconvert_exporter": "python",
   "pygments_lexer": "ipython3"
  }
 },
 "nbformat": 4,
 "nbformat_minor": 0
}
