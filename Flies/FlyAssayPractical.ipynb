{
 "cells": [
  {
   "cell_type": "markdown",
   "metadata": {},
   "source": [
    "\n",
    "# Project: Analyze the annoyance assay\n",
    "\n",
    "There is a new assay developed for flies called the 'annoyance assay'. It measures how many times a fruit fly flies past a human face in an office environment in a 10 minute time span. \n",
    "\n",
    "We have been tasked with analyzing the results for this assay."
   ]
  },
  {
   "cell_type": "markdown",
   "metadata": {},
   "source": [
    "**1)** I've written a program to calculate scores on the assay but it has some bugs. Please run the program and find and correct the errors. When you have finished, the program should print:\n",
    "JRC_very_annoying: 7.5 \n",
    "\n",
    "This program takes a list of results for a fly line and calculated the average. The file is in the following format:\n",
    "    \n",
    "    Fly_Line_Name\n",
    "    7\n",
    "    15\n",
    "    2\n",
    "\n",
    "\n",
    "There are **2** errors total. Work on solving them one at a time.\n",
    "\n",
    "** HINT ** The python debugger will give you an idea what the error is and which line it occurs on."
   ]
  },
  {
   "cell_type": "code",
   "execution_count": null,
   "metadata": {
    "collapsed": false
   },
   "outputs": [],
   "source": [
    "def parseFile(filename):\n",
    "    \"\"\"\n",
    "    Reads the file and gets the line name and \n",
    "    a list of their scores for each trial.\n",
    "    Returns the name and list of scores.\n",
    "    \"\"\"\n",
    "    fi = open(filename)\n",
    "    scores = []\n",
    "    # Set name to empty string which is 'falsy'\n",
    "    name = \"\"\n",
    "    for line in fi:\n",
    "        # If we do not have a name, set it as the first line in the file\n",
    "        # Then name will be true on all subsequent lines. Basically, this gets\n",
    "        # us the header line, and then processes the rest of the file as normal\n",
    "        if not name:\n",
    "            name = line.strip()\n",
    "        else: \n",
    "            # score is a number on a single line in the file \n",
    "            # (strip is a string method that removes the newline)\n",
    "            score = line.strip()\n",
    "            scores.append(score)\n",
    "    fi.close()\n",
    "    # name is the string with the name of the fly, scores is the list of scores\n",
    "    return name, scores\n",
    "\n",
    "def calculateMean(scores):\n",
    "    \"\"\"\n",
    "    Calculates the mean of the fly's score\n",
    "    Returns the overall mean value.\n",
    "    \"\"\"\n",
    "    # To find the average get the sum and divide it by number of elements\n",
    "    sum = 0\n",
    "    count = 0\n",
    "    for score in scores:\n",
    "        count += 1\n",
    "        sum += score\n",
    "    return sum / count\n",
    "\n",
    "filename = \"scores.txt\"\n",
    "# First, get the line name and a list of the scores\n",
    "line_name, scores = parseFile(filename)\n",
    "# Then calculate the average score from the list of scores\n",
    "line_average = calculateScore(scores)\n",
    "# Finally print out the results\n",
    "print(line_name + \": \" + str(line_average))"
   ]
  },
  {
   "cell_type": "markdown",
   "metadata": {},
   "source": [
    "Check your work"
   ]
  },
  {
   "cell_type": "code",
   "execution_count": null,
   "metadata": {
    "collapsed": false
   },
   "outputs": [],
   "source": [
    "line_name == 'JRC_very_annoying'\n",
    "line_average == 7.5"
   ]
  },
  {
   "cell_type": "markdown",
   "metadata": {},
   "source": [
    "**2)**  Now that you have finished fixing the bugs, lets add some features.\n",
    "\n",
    "You are welcome to copy and paste code from the previous exercises.\n",
    "\n",
    "a) Sometimes the machine breaks and produces a '-' instead of a count. Modify calculateMean to filter out these scores and not include dashed lines in the count or sum when calculating the mean. Run the program again with the file 'scores-dash.txt'\n",
    "\n",
    "I find it useful to look at the data first. I would probably perform the filtering in the `parseFile` function and just not add -'s to the list, but there is more than one way to solve this exercise. \n",
    "\n",
    "b) We anticipate ramping up this assay in the near future. We will have many files to parse instead of just one at a time. Let's refactor the code to process a single file into a function. Create a function called `processAssay` that takes one argument, a file name. This should return the line name and the average scores as a tuple: (line_name, average_score). Test it out by running it with scores.txt and with scores-dash.txt. Make sure you print out the result.\n",
    "\n",
    "    # To try your function run\n",
    "    name1, ave_score1 = processAssay('scores.txt')\n",
    "    name2, ave_score2 = processAssay('scores-dash.txt')\n",
    "\n",
    "c) Let's use the processAssay function you just wrote to process a list of files: ['assay1.txt', 'assay2.txt', 'assay3.txt', 'assay4.txt']. Process each one and print out the result. **HINT** You will need to use a loop."
   ]
  },
  {
   "cell_type": "code",
   "execution_count": null,
   "metadata": {
    "collapsed": true
   },
   "outputs": [],
   "source": [
    "# a) Sometimes the machine breaks and produces a '-' instead of a count. \n",
    "# Modify the program to filter out these scores and not include dashed lines \n",
    "# in the count or sum when calculating the mean. Run the program again with the \n",
    "# file 'scores-dash.txt'\n",
    "\n"
   ]
  },
  {
   "cell_type": "code",
   "execution_count": null,
   "metadata": {
    "collapsed": true
   },
   "outputs": [],
   "source": [
    "# b) We anticipate ramping up this assay in the near future. \n",
    "# We will have many files to parse instead of just one at a time.\n",
    "# Let's refactor the code to process a single file into a function. \n",
    "# Create a function called processAssay that takes one argument, a file name. \n",
    "# This should return the line name and the average scores as a tuple: (line_name, average_score). \n",
    "# Test it out by running it with scores.txt and with scores-dash.txt. \n",
    "# Make sure you print out the result.\n"
   ]
  },
  {
   "cell_type": "code",
   "execution_count": null,
   "metadata": {
    "collapsed": true
   },
   "outputs": [],
   "source": [
    "# c) Let's use the processAssay function you just \n",
    "# wrote to process a list of files: \n",
    "# ['assay1.txt', 'assay2.txt', 'assay3.txt', 'assay4.txt']. \n",
    "# Process each one and print out the result.\n",
    "file_list = ['assay1.txt', 'assay2.txt', 'assay3.txt', 'assay4.txt']\n"
   ]
  }
 ],
 "metadata": {
  "kernelspec": {
   "display_name": "Python 3",
   "language": "python",
   "name": "python3"
  },
  "language_info": {
   "codemirror_mode": {
    "name": "ipython",
    "version": 3
   },
   "file_extension": ".py",
   "mimetype": "text/x-python",
   "name": "python",
   "nbconvert_exporter": "python",
   "pygments_lexer": "ipython3",
   "version": "3.5.2"
  }
 },
 "nbformat": 4,
 "nbformat_minor": 0
}
